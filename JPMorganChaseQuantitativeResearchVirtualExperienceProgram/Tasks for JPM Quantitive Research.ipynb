{
 "cells": [
  {
   "cell_type": "markdown",
   "id": "ce0c724f",
   "metadata": {},
   "source": [
    "### Author: Samiyanur Islam\n",
    "### Github: https://github.com/jojo142\n",
    "### LinkedIn: https://www.linkedin.com/in/samiya-islam-050b7621a/\n",
    "### Personal Website: https://samiyanurislam.com"
   ]
  },
  {
   "cell_type": "markdown",
   "id": "c46ec6b4",
   "metadata": {},
   "source": [
    "# Task 1: Investigate and analyze price data\n",
    "#### Here is your task\n",
    "After asking around for the source of the existing data, you learn that the current process is to take a monthly snapshot of prices from a market data provider, which represents the market price of natural gas delivered at the end of each calendar month. This data is available for roughly the next 18 months and is combined with historical prices in a time series database. After gaining access, you are able to download the data in a CSV file.\n",
    "\n",
    "You should use this monthly snapshot to produce a varying picture of the existing price data, as well as an extrapolation for an extra year, in case the client needs an indicative price for a longer-term storage contract.\n",
    "\n",
    "Download the monthly natural gas price data.\n",
    "Each point in the data set corresponds to the purchase price of natural gas at the end of a month, from 31st October 2020 to 30th September 2024.\n",
    "Analyze the data to estimate the purchase price of gas at any date in the past and extrapolate it for one year into the future. \n",
    "Your code should take a date as input and return a price estimate.\n",
    "Try to visualize the data to find patterns and consider what factors might cause the price of natural gas to vary. This can include looking at months of the year for seasonal trends that affect the prices, but market holidays, weekends, and bank holidays need not be accounted for. Submit your completed code below.\n",
    "\n",
    "Note: This role often requires the knowledge and utilization of data analysis and machine learning. Python is a useful tool and one that JPMorgan Chase uses a lot in quantitative research since it’s capable of completing complex tasks.\n",
    "\n",
    "Moving forward in this program, the example answers are given in Python code. (If Python is not downloaded on your system, you can execute Python code in Jupyter Notebook online for free.)"
   ]
  },
  {
   "cell_type": "code",
   "execution_count": 132,
   "id": "1507f299",
   "metadata": {},
   "outputs": [],
   "source": [
    "import pandas as pd\n",
    "import numpy as np\n",
    "import matplotlib.pyplot as plt\n",
    "from sklearn.model_selection import TimeSeriesSplit\n",
    "from sklearn.ensemble import RandomForestRegressor\n",
    "from sklearn.metrics import mean_squared_error, mean_absolute_error, r2_score, mean_squared_log_error, explained_variance_score\n",
    "from sklearn.model_selection import train_test_split\n",
    "\n",
    "import seaborn as sns\n",
    "from sklearn.linear_model import LogisticRegression\n",
    "from sklearn import metrics"
   ]
  },
  {
   "cell_type": "code",
   "execution_count": 133,
   "id": "3678caef",
   "metadata": {},
   "outputs": [],
   "source": [
    "# Load the monthly natural gas price data from the CSV file\n",
    "data = pd.read_csv(\"NAT_gas.csv\", parse_dates=[\"Dates\"])\n",
    "data.set_index(\"Dates\", inplace=True)\n"
   ]
  },
  {
   "cell_type": "code",
   "execution_count": 134,
   "id": "e8f0fa08",
   "metadata": {},
   "outputs": [],
   "source": [
    "# Convert the Prices column to numeric values (including scientific notation strings)\n",
    "data[\"Prices\"] = pd.to_numeric(data[\"Prices\"], errors=\"coerce\")"
   ]
  },
  {
   "cell_type": "code",
   "execution_count": 135,
   "id": "d914b00d",
   "metadata": {},
   "outputs": [],
   "source": [
    "# Forward fill missing values\n",
    "data[\"Prices\"].fillna(method='ffill', inplace=True)"
   ]
  },
  {
   "cell_type": "code",
   "execution_count": 136,
   "id": "0ad3c00a",
   "metadata": {},
   "outputs": [],
   "source": [
    "# Function to create lag features for time-series data\n",
    "def create_lag_features(data, target_col, n_lags):\n",
    "    for lag in range(1, n_lags + 1):\n",
    "        data[f\"{target_col}_lag_{lag}\"] = data[target_col].shift(lag)\n",
    "    return data\n"
   ]
  },
  {
   "cell_type": "code",
   "execution_count": 137,
   "id": "5ddcb8b2",
   "metadata": {},
   "outputs": [],
   "source": [
    "# Create lag features\n",
    "data = create_lag_features(data, target_col=\"Prices\", n_lags=12)  # Use past 12 months as features\n"
   ]
  },
  {
   "cell_type": "code",
   "execution_count": 138,
   "id": "1850241d",
   "metadata": {},
   "outputs": [],
   "source": [
    "# Drop rows with NaN values resulting from creating lag features\n",
    "data.dropna(inplace=True)"
   ]
  },
  {
   "cell_type": "markdown",
   "id": "f8807135",
   "metadata": {},
   "source": [
    "# Using Random Forest"
   ]
  },
  {
   "cell_type": "code",
   "execution_count": 139,
   "id": "6f5d9979",
   "metadata": {},
   "outputs": [],
   "source": [
    "# Load the monthly natural gas price data from the CSV file\n",
    "data = pd.read_csv(\"NAT_gas.csv\", parse_dates=[\"Dates\"])\n",
    "data.set_index(\"Dates\", inplace=True)\n"
   ]
  },
  {
   "cell_type": "code",
   "execution_count": 140,
   "id": "21610109",
   "metadata": {},
   "outputs": [],
   "source": [
    "# Convert the Prices column to numeric values (including scientific notation strings)\n",
    "data[\"Prices\"] = pd.to_numeric(data[\"Prices\"], errors=\"coerce\")\n",
    "\n",
    "# Create additional time features\n",
    "data[\"Month\"] = data.index.month\n",
    "data[\"DayOfWeek\"] = data.index.dayofweek\n",
    "data[\"DayOfYear\"] = data.index.dayofyear\n",
    "data[\"WeekOfYear\"] = data.index.isocalendar().week\n",
    "data[\"Quarter\"] = data.index.quarter\n",
    "data[\"Season\"] = (data.index.month % 12 + 3) // 3"
   ]
  },
  {
   "cell_type": "code",
   "execution_count": 141,
   "id": "f44720fa",
   "metadata": {},
   "outputs": [],
   "source": [
    "# Separate the target variable (Prices) and the features (time-related features)\n",
    "X = data[[\"Month\", \"DayOfWeek\", \"DayOfYear\", \"WeekOfYear\", \"Quarter\", \"Season\"]]\n",
    "y = data[\"Prices\"]\n",
    "\n",
    "# Train/test split\n",
    "X_train, X_test, y_train, y_test = train_test_split(X, y, test_size=0.2, random_state=42)\n",
    "\n"
   ]
  },
  {
   "cell_type": "code",
   "execution_count": 142,
   "id": "2b24e6f3",
   "metadata": {},
   "outputs": [
    {
     "name": "stdout",
     "output_type": "stream",
     "text": [
      "RMSE: 0.816938430972613\n",
      "R2 Score: -0.3903924999999888\n",
      "MAE: 0.6905199999999972\n",
      "MSLE: 0.004429198102908987\n",
      "Explained Variance Score: -0.3722028466666556\n"
     ]
    }
   ],
   "source": [
    "# Train a Random Forest Regression model\n",
    "model = RandomForestRegressor(random_state=42)\n",
    "model.fit(X_train, y_train)\n",
    "\n",
    "# Evaluate the model\n",
    "y_pred = model.predict(X_test)\n",
    "\n",
    "rmse = mean_squared_error(y_test, y_pred, squared=False)\n",
    "print(f'RMSE: {rmse}')\n",
    "\n",
    "# R-squared for proportion of variance in the dependent variable (gas prices) that is predictable from the independent variables (time). It provides a value between 0 and 1, where 1 indicates a perfect fit.\n",
    "r2 = r2_score(y_test, y_pred)\n",
    "print(f'R2 Score: {r2}')\n",
    "\n",
    "# MAE for average absolute difference between the predicted values and the actual values. It is less sensitive to outliers compared to RMSE.\n",
    "mae = mean_absolute_error(y_test, y_pred)\n",
    "print(f'MAE: {mae}')\n",
    "\n",
    "#MSLE measures the mean squared logarithmic difference between the predicted values and the actual values. It is suitable for data that follows an exponential or logarithmic distribution.\n",
    "msle = mean_squared_log_error(y_test, y_pred)\n",
    "print(f'MSLE: {msle}')\n",
    "\n",
    "# EVS measures the proportion of the variance in the dependent variable that is explained by the model.\n",
    "explained_variance = explained_variance_score(y_test, y_pred)\n",
    "print(f'Explained Variance Score: {explained_variance}')"
   ]
  },
  {
   "cell_type": "code",
   "execution_count": 143,
   "id": "e93feae5",
   "metadata": {},
   "outputs": [
    {
     "name": "stdout",
     "output_type": "stream",
     "text": [
      "         Date  Estimated_Price\n",
      "0  2024-10-30          11.3730\n",
      "1  2024-11-30          10.6780\n",
      "2  2024-12-30          11.0566\n",
      "3  2025-01-30          11.9690\n",
      "4  2025-03-02          12.0700\n",
      "5  2025-03-30          12.0680\n",
      "6  2025-04-30          11.0642\n",
      "7  2025-05-30          10.8142\n",
      "8  2025-06-30          10.2684\n",
      "9  2025-07-30          11.1970\n",
      "10 2025-08-30          11.1120\n",
      "11 2025-09-30          11.1770\n"
     ]
    }
   ],
   "source": [
    "# Extrapolate prices for each month in the next year (from the last available date in the data)\n",
    "last_date = data.index[-1]\n",
    "extrapolation_dates = pd.date_range(start=last_date, periods=12, freq=\"M\") + pd.DateOffset(days=30)\n",
    "extrapolation_features = {\n",
    "    \"Month\": extrapolation_dates.month,\n",
    "    \"DayOfWeek\": extrapolation_dates.dayofweek,\n",
    "    \"DayOfYear\": extrapolation_dates.dayofyear,\n",
    "    \"WeekOfYear\": extrapolation_dates.isocalendar().week,\n",
    "    \"Quarter\": extrapolation_dates.quarter,\n",
    "    \"Season\": (extrapolation_dates.month % 12 + 3) // 3\n",
    "}\n",
    "extrapolated_prices = model.predict(pd.DataFrame(extrapolation_features))\n",
    "\n",
    "extrapolation_data = pd.DataFrame({\"Date\": extrapolation_dates, \"Estimated_Price\": extrapolated_prices})\n",
    "print(extrapolation_data)"
   ]
  },
  {
   "cell_type": "code",
   "execution_count": 144,
   "id": "219613b2",
   "metadata": {},
   "outputs": [
    {
     "data": {
      "image/png": "[encoded data removed]",
      "text/plain": [
       "<Figure size 1200x600 with 1 Axes>"
      ]
     },
     "metadata": {},
     "output_type": "display_data"
    }
   ],
   "source": [
    "# Plot the time series of natural gas prices\n",
    "plt.figure(figsize=(12, 6))\n",
    "plt.plot(data.index, data[\"Prices\"], label=\"Natural Gas Prices\", marker=\"o\", linestyle=\"-\")\n",
    "plt.plot(extrapolation_data[\"Date\"], extrapolation_data[\"Estimated_Price\"], marker=\"o\", label=\"Estimated Prices\", linestyle='--')\n",
    "plt.xlabel(\"Date\")\n",
    "plt.ylabel(\"Natural Gas Price\")\n",
    "plt.title(\"Time Series of Natural Gas Prices\")\n",
    "plt.legend()\n",
    "plt.grid(True)\n",
    "plt.show()"
   ]
  },
  {
   "cell_type": "markdown",
   "id": "c88d3c73",
   "metadata": {},
   "source": [
    "# Conlclusion:"
   ]
  },
  {
   "cell_type": "markdown",
   "id": "4f570802",
   "metadata": {},
   "source": [
    "I think in the context of predicting future gas prices for your specific dataset, Gradient Boosting emerges as a more favorable choice compared to Random Forest. The reason behind this lies in the unique characteristics of your time-series data. The temporal dependency in gas prices, where values at a given time point are influenced by past observations, requires a model that can effectively capture such sequential patterns. Gradient Boosting's sequential nature empowers it to learn from past errors and decipher complex temporal relationships, leading to more accurate predictions. Additionally, the gas price graph exhibits an upward increasing trend, which Gradient Boosting is adept at identifying due to its ability to recognize intricate non-linear relationships. Its capability to handle seasonality further enhances its performance, as gas prices may be influenced by recurring patterns over regular intervals. By leveraging these strengths, Gradient Boosting can better interpret the dynamics of gas prices and provide valuable insights for decision-making in the commodities trading domain."
   ]
  },
  {
   "cell_type": "markdown",
   "id": "21d665ff",
   "metadata": {},
   "source": [
    "# Task 2: Price A Commodity Storage Contract"
   ]
  },
  {
   "cell_type": "markdown",
   "id": "d15383d0",
   "metadata": {},
   "source": [
    "Background:\n",
    "The concept is simple: any trade agreement is as valuable as the price you can sell minus the price at which you are able to buy. Any cost incurred as part of executing this agreement is also deducted from the overall value. So, for example, if I can purchase a million MMBtu of natural gas in summer at $2/MMBtu, store this for four months, and ensure that I can sell the same quantity at $3/MMBtu without incurring any additional costs, the value of this contract would be ($3-$2) *1e6 = $1million. If there are costs involved, such as having to pay the storage facility owner a fixed fee of $100K a month, then the 'value' of the contract, from my perspective, would drop by the overall rental amount to $600K. Another cost could be the injection/withdrawal cost, like having to pay the storage facility owner $10K per 1 million MMBtu for injection/withdrawal, then the price will further go down by $10K to $590K. Additionally, if I am supposed to foot a bill of $50K each time for transporting the gas to and from the facility, the cost of this contract would fall by another $100K. Think of the valuation as a fair estimate at which both the trading desk and the client would be happy to enter into the contract. \n",
    "\n",
    "#### Here is your task:\n",
    "You need to create a prototype pricing model that can go through further validation and testing before being put into production. Eventually, this model may be the basis for fully automated quoting to clients, but for now, the desk will use it with manual oversight to explore options with the client. \n",
    "\n",
    "You should write a function that is able to use the data you created previously to price the contract. The client may want to choose multiple dates to inject and withdraw a set amount of gas, so your approach should generalize the explanation from before. Consider all the cash flows involved in the product.\n",
    "\n",
    "The input parameters that should be taken into account for pricing are:\n",
    "\n",
    "- Injection dates. \n",
    "- Withdrawal dates.\n",
    "- The prices at which the commodity can be purchased/sold on those dates.\n",
    "- The rate at which the gas can be injected/withdrawn.\n",
    "- The maximum volume that can be stored.\n",
    "- Storage costs.\n",
    "\n",
    "Write a function that takes these inputs and gives back the value of the contract. You can assume there is no transport delay and that interest rates are zero. Market holidays, weekends, and bank holidays need not be accounted for. Test your code by selecting a few sample inputs."
   ]
  },
  {
   "cell_type": "code",
   "execution_count": 145,
   "id": "876054dd",
   "metadata": {},
   "outputs": [
    {
     "name": "stdout",
     "output_type": "stream",
     "text": [
      "Injected gas on 2022-01-01 at a price of 20\n",
      "Extracted gas on 2022-01-27 at a price of 23\n",
      "Injected gas on 2022-02-01 at a price of 21\n",
      "Extracted gas on 2022-02-15 at a price of 19\n",
      "Injected gas on 2022-02-21 at a price of 20.5\n",
      "Extracted gas on 2022-03-20 at a price of 21\n",
      "Injected gas on 2022-04-01 at a price of 22\n",
      "Extracted gas on 2022-06-01 at a price of 25\n",
      "\n",
      "The value of the contract is: $399600.0\n"
     ]
    }
   ],
   "source": [
    "from datetime import date\n",
    "import math\n",
    "\n",
    "def price_contract(in_dates, in_prices, out_dates, out_prices, rate, storage_cost_rate, total_vol, injection_withdrawal_cost_rate):\n",
    "    volume = 0\n",
    "    buy_cost = 0\n",
    "    cash_in = 0\n",
    "    last_date = min(min(in_dates), min(out_dates))\n",
    "\n",
    "    # Ensure dates are in sequence\n",
    "    all_dates = sorted(set(in_dates + out_dates))\n",
    "    for i in range(len(all_dates)):\n",
    "    # processing code for each date\n",
    "        start_date = all_dates[i]\n",
    "        if start_date in in_dates:\n",
    "        # Inject on these dates and sum up cash flows\n",
    "            if volume + rate <= total_vol:\n",
    "                volume += rate\n",
    "                # Cost to purchase gas\n",
    "                buy_cost += rate * in_prices[in_dates.index(start_date)]\n",
    "\n",
    "                # Injection cost\n",
    "                injection_cost = rate * injection_withdrawal_cost_rate\n",
    "                buy_cost += injection_cost\n",
    "                print(f'Injected gas on {start_date} at a price of {in_prices[in_dates.index(start_date)]}')\n",
    "            else:\n",
    "                # can't inject cuz curr_vol + rate > total_vol\n",
    "                print(f'Injection is not possible on date {start_date} as there is insufficient space in the storage facility')\n",
    "        elif start_date in out_dates:\n",
    "            #Withdraw on these dates and sum cash flows\n",
    "            if volume >= rate:\n",
    "                volume -= rate\n",
    "                cash_in += rate * out_prices[out_dates.index(start_date)]\n",
    "                # Withdrawal cost\n",
    "                withdrawal_cost = rate * injection_withdrawal_cost_rate\n",
    "                cash_in -= withdrawal_cost\n",
    "                print(f'Extracted gas on {start_date} at a price of {out_prices[out_dates.index(start_date)]}')\n",
    "            else:\n",
    "                # can't withdraw cuz curr_vol < rate\n",
    "                print(f'Extraction is not possible on date {start_date} as there is insufficient volume of gas stored')\n",
    "    \n",
    "    store_cost = math.ceil((max(out_dates) - min(in_dates)).days // 30) * storage_cost_rate\n",
    "    return cash_in - store_cost - buy_cost\n",
    "\n",
    "in_dates = [date(2022, 1, 1), date(2022, 2, 1), date(2022, 2, 21), date(2022, 4, 1)] \n",
    "in_prices = [20, 21, 20.5, 22]\n",
    "out_dates = [date(2022, 1, 27), date(2022, 2, 15), date(2022, 3, 20), date(2022, 6, 1)] \n",
    "out_prices = [23, 19, 21, 25] \n",
    "\n",
    "rate = 100000  # rate of gas in cubic feet per day\n",
    "storage_cost_rate = 10000  # total volume in cubic feet\n",
    "injection_withdrawal_cost_rate = 0.0005 \n",
    "max_storage_volume = 500000 # max_capacity of storage facility in cubic feet\n",
    "result = price_contract(in_dates, in_prices, out_dates, out_prices, rate, storage_cost_rate, max_storage_volume, injection_withdrawal_cost_rate)\n",
    "print()\n",
    "print(f\"The value of the contract is: ${result}\")"
   ]
  },
  {
   "cell_type": "markdown",
   "id": "45d6e7ce",
   "metadata": {},
   "source": [
    "# TASK 3: Credit Risk Analysis"
   ]
  },
  {
   "cell_type": "markdown",
   "id": "b91c7eac",
   "metadata": {},
   "source": [
    "#### Here is the background information on your task\n",
    "You have now moved to a new team assisting the retail banking arm, which has been experiencing higher-than-expected default rates on personal loans. Loans are an important source of revenue for banks, but they are also associated with the risk that borrowers may default on their loans. A default occurs when a borrower stops making the required payments on a debt.\n",
    "\n",
    "The risk team has begun to look at the existing book of loans to see if more defaults should be expected in the future and, if so, what the expected loss will be. They have collected data on customers and now want to build a predictive model that can estimate the probability of default based on customer characteristics. A better estimate of the number of customers defaulting on their loan obligations will allow us to set aside sufficient capital to absorb that loss. They have decided to work with you in the QR team to help predict the possible losses due to the loans that would potentially default in the next year.\n",
    "\n",
    "Charlie, an associate in the risk team, who has been introducing you to the business area, sends you a small sample of their loan book and asks if you can try building a prototype predictive model, which she can then test and incorporate into their loss allowances.\n",
    "\n",
    "#### Here is your task\n",
    "The risk manager has collected data on the loan borrowers. The data is in tabular format, with each row providing details of the borrower, including their income, total loans outstanding, and a few other metrics. There is also a column indicating if the borrower has previously defaulted on a loan. You must use this data to build a model that, given details for any loan described above, will predict the probability that the borrower will default (also known as PD: the probability of default). Use the provided data to train a function that will estimate the probability of default for a borrower. Assuming a recovery rate of 10%, this can be used to give the expected loss on a loan.\n",
    "\n",
    "- You should produce a function that can take in the properties of a loan and output the expected loss.\n",
    "- You can explore any technique ranging from a simple regression or a decision tree to something more advanced. You can also use multiple methods and provide a comparative analysis."
   ]
  },
  {
   "cell_type": "code",
   "execution_count": 146,
   "id": "24b88dcc",
   "metadata": {},
   "outputs": [],
   "source": [
    "import seaborn as sns\n",
    "from sklearn.linear_model import LogisticRegression\n",
    "from sklearn import metrics\n"
   ]
  },
  {
   "cell_type": "code",
   "execution_count": 147,
   "id": "11fe2ef8",
   "metadata": {},
   "outputs": [
    {
     "data": {
      "text/html": [
       "<div>\n",
       "<style scoped>\n",
       "    .dataframe tbody tr th:only-of-type {\n",
       "        vertical-align: middle;\n",
       "    }\n",
       "\n",
       "    .dataframe tbody tr th {\n",
       "        vertical-align: top;\n",
       "    }\n",
       "\n",
       "    .dataframe thead th {\n",
       "        text-align: right;\n",
       "    }\n",
       "</style>\n",
       "<table border=\"1\" class=\"dataframe\">\n",
       "  <thead>\n",
       "    <tr style=\"text-align: right;\">\n",
       "      <th></th>\n",
       "      <th>customer_id</th>\n",
       "      <th>credit_lines_outstanding</th>\n",
       "      <th>loan_amt_outstanding</th>\n",
       "      <th>total_debt_outstanding</th>\n",
       "      <th>income</th>\n",
       "      <th>years_employed</th>\n",
       "      <th>fico_score</th>\n",
       "      <th>default</th>\n",
       "    </tr>\n",
       "  </thead>\n",
       "  <tbody>\n",
       "    <tr>\n",
       "      <th>0</th>\n",
       "      <td>8153374</td>\n",
       "      <td>0</td>\n",
       "      <td>5221.545193</td>\n",
       "      <td>3915.471226</td>\n",
       "      <td>78039.38546</td>\n",
       "      <td>5</td>\n",
       "      <td>605</td>\n",
       "      <td>0</td>\n",
       "    </tr>\n",
       "    <tr>\n",
       "      <th>1</th>\n",
       "      <td>7442532</td>\n",
       "      <td>5</td>\n",
       "      <td>1958.928726</td>\n",
       "      <td>8228.752520</td>\n",
       "      <td>26648.43525</td>\n",
       "      <td>2</td>\n",
       "      <td>572</td>\n",
       "      <td>1</td>\n",
       "    </tr>\n",
       "    <tr>\n",
       "      <th>2</th>\n",
       "      <td>2256073</td>\n",
       "      <td>0</td>\n",
       "      <td>3363.009259</td>\n",
       "      <td>2027.830850</td>\n",
       "      <td>65866.71246</td>\n",
       "      <td>4</td>\n",
       "      <td>602</td>\n",
       "      <td>0</td>\n",
       "    </tr>\n",
       "    <tr>\n",
       "      <th>3</th>\n",
       "      <td>4885975</td>\n",
       "      <td>0</td>\n",
       "      <td>4766.648001</td>\n",
       "      <td>2501.730397</td>\n",
       "      <td>74356.88347</td>\n",
       "      <td>5</td>\n",
       "      <td>612</td>\n",
       "      <td>0</td>\n",
       "    </tr>\n",
       "    <tr>\n",
       "      <th>4</th>\n",
       "      <td>4700614</td>\n",
       "      <td>1</td>\n",
       "      <td>1345.827718</td>\n",
       "      <td>1768.826187</td>\n",
       "      <td>23448.32631</td>\n",
       "      <td>6</td>\n",
       "      <td>631</td>\n",
       "      <td>0</td>\n",
       "    </tr>\n",
       "    <tr>\n",
       "      <th>5</th>\n",
       "      <td>4661159</td>\n",
       "      <td>0</td>\n",
       "      <td>5376.886873</td>\n",
       "      <td>7189.121298</td>\n",
       "      <td>85529.84591</td>\n",
       "      <td>2</td>\n",
       "      <td>697</td>\n",
       "      <td>0</td>\n",
       "    </tr>\n",
       "    <tr>\n",
       "      <th>6</th>\n",
       "      <td>8291909</td>\n",
       "      <td>1</td>\n",
       "      <td>3634.057471</td>\n",
       "      <td>7085.980095</td>\n",
       "      <td>68691.57707</td>\n",
       "      <td>6</td>\n",
       "      <td>722</td>\n",
       "      <td>0</td>\n",
       "    </tr>\n",
       "    <tr>\n",
       "      <th>7</th>\n",
       "      <td>4616950</td>\n",
       "      <td>4</td>\n",
       "      <td>3302.172238</td>\n",
       "      <td>13067.570210</td>\n",
       "      <td>50352.16821</td>\n",
       "      <td>3</td>\n",
       "      <td>545</td>\n",
       "      <td>1</td>\n",
       "    </tr>\n",
       "    <tr>\n",
       "      <th>8</th>\n",
       "      <td>3395789</td>\n",
       "      <td>0</td>\n",
       "      <td>2938.325123</td>\n",
       "      <td>1918.404472</td>\n",
       "      <td>53497.37754</td>\n",
       "      <td>4</td>\n",
       "      <td>676</td>\n",
       "      <td>0</td>\n",
       "    </tr>\n",
       "    <tr>\n",
       "      <th>9</th>\n",
       "      <td>4045948</td>\n",
       "      <td>0</td>\n",
       "      <td>5396.366774</td>\n",
       "      <td>5298.824524</td>\n",
       "      <td>92349.55399</td>\n",
       "      <td>2</td>\n",
       "      <td>447</td>\n",
       "      <td>0</td>\n",
       "    </tr>\n",
       "  </tbody>\n",
       "</table>\n",
       "</div>"
      ],
      "text/plain": [
       "   customer_id  credit_lines_outstanding  loan_amt_outstanding  \\\n",
       "0      8153374                         0           5221.545193   \n",
       "1      7442532                         5           1958.928726   \n",
       "2      2256073                         0           3363.009259   \n",
       "3      4885975                         0           4766.648001   \n",
       "4      4700614                         1           1345.827718   \n",
       "5      4661159                         0           5376.886873   \n",
       "6      8291909                         1           3634.057471   \n",
       "7      4616950                         4           3302.172238   \n",
       "8      3395789                         0           2938.325123   \n",
       "9      4045948                         0           5396.366774   \n",
       "\n",
       "   total_debt_outstanding       income  years_employed  fico_score  default  \n",
       "0             3915.471226  78039.38546               5         605        0  \n",
       "1             8228.752520  26648.43525               2         572        1  \n",
       "2             2027.830850  65866.71246               4         602        0  \n",
       "3             2501.730397  74356.88347               5         612        0  \n",
       "4             1768.826187  23448.32631               6         631        0  \n",
       "5             7189.121298  85529.84591               2         697        0  \n",
       "6             7085.980095  68691.57707               6         722        0  \n",
       "7            13067.570210  50352.16821               3         545        1  \n",
       "8             1918.404472  53497.37754               4         676        0  \n",
       "9             5298.824524  92349.55399               2         447        0  "
      ]
     },
     "execution_count": 147,
     "metadata": {},
     "output_type": "execute_result"
    }
   ],
   "source": [
    "df = pd.read_csv('Task 3 and 4_Loan_Data.csv')\n",
    "df.head(10)"
   ]
  },
  {
   "cell_type": "code",
   "execution_count": 148,
   "id": "1ef656e0",
   "metadata": {},
   "outputs": [
    {
     "name": "stderr",
     "output_type": "stream",
     "text": [
      "/var/folders/s6/20d68lss3j5cb0fvbfxdl__m0000gn/T/ipykernel_18048/1431703863.py:3: FutureWarning: In a future version of pandas all arguments of DataFrame.drop except for the argument 'labels' will be keyword-only.\n",
      "  df = df.drop(['customer_id', 'loan_amt_outstanding', 'total_debt_outstanding', 'income'], 1)\n"
     ]
    },
    {
     "data": {
      "text/html": [
       "<div>\n",
       "<style scoped>\n",
       "    .dataframe tbody tr th:only-of-type {\n",
       "        vertical-align: middle;\n",
       "    }\n",
       "\n",
       "    .dataframe tbody tr th {\n",
       "        vertical-align: top;\n",
       "    }\n",
       "\n",
       "    .dataframe thead th {\n",
       "        text-align: right;\n",
       "    }\n",
       "</style>\n",
       "<table border=\"1\" class=\"dataframe\">\n",
       "  <thead>\n",
       "    <tr style=\"text-align: right;\">\n",
       "      <th></th>\n",
       "      <th>credit_lines_outstanding</th>\n",
       "      <th>years_employed</th>\n",
       "      <th>fico_score</th>\n",
       "      <th>default</th>\n",
       "      <th>payment_to_income</th>\n",
       "      <th>debt_to_income</th>\n",
       "    </tr>\n",
       "  </thead>\n",
       "  <tbody>\n",
       "    <tr>\n",
       "      <th>0</th>\n",
       "      <td>0</td>\n",
       "      <td>5</td>\n",
       "      <td>605</td>\n",
       "      <td>0</td>\n",
       "      <td>0.066909</td>\n",
       "      <td>0.050173</td>\n",
       "    </tr>\n",
       "    <tr>\n",
       "      <th>1</th>\n",
       "      <td>5</td>\n",
       "      <td>2</td>\n",
       "      <td>572</td>\n",
       "      <td>1</td>\n",
       "      <td>0.073510</td>\n",
       "      <td>0.308789</td>\n",
       "    </tr>\n",
       "    <tr>\n",
       "      <th>2</th>\n",
       "      <td>0</td>\n",
       "      <td>4</td>\n",
       "      <td>602</td>\n",
       "      <td>0</td>\n",
       "      <td>0.051058</td>\n",
       "      <td>0.030787</td>\n",
       "    </tr>\n",
       "    <tr>\n",
       "      <th>3</th>\n",
       "      <td>0</td>\n",
       "      <td>5</td>\n",
       "      <td>612</td>\n",
       "      <td>0</td>\n",
       "      <td>0.064105</td>\n",
       "      <td>0.033645</td>\n",
       "    </tr>\n",
       "    <tr>\n",
       "      <th>4</th>\n",
       "      <td>1</td>\n",
       "      <td>6</td>\n",
       "      <td>631</td>\n",
       "      <td>0</td>\n",
       "      <td>0.057395</td>\n",
       "      <td>0.075435</td>\n",
       "    </tr>\n",
       "  </tbody>\n",
       "</table>\n",
       "</div>"
      ],
      "text/plain": [
       "   credit_lines_outstanding  years_employed  fico_score  default  \\\n",
       "0                         0               5         605        0   \n",
       "1                         5               2         572        1   \n",
       "2                         0               4         602        0   \n",
       "3                         0               5         612        0   \n",
       "4                         1               6         631        0   \n",
       "\n",
       "   payment_to_income  debt_to_income  \n",
       "0           0.066909        0.050173  \n",
       "1           0.073510        0.308789  \n",
       "2           0.051058        0.030787  \n",
       "3           0.064105        0.033645  \n",
       "4           0.057395        0.075435  "
      ]
     },
     "execution_count": 148,
     "metadata": {},
     "output_type": "execute_result"
    }
   ],
   "source": [
    "df['payment_to_income'] = df['loan_amt_outstanding'] / df['income']\n",
    "df ['debt_to_income'] = df['total_debt_outstanding'] / df['income']\n",
    "df = df.drop(['customer_id', 'loan_amt_outstanding', 'total_debt_outstanding', 'income'], 1)\n",
    "df.head()"
   ]
  },
  {
   "cell_type": "code",
   "execution_count": 149,
   "id": "e5e4ab8c",
   "metadata": {},
   "outputs": [
    {
     "name": "stdout",
     "output_type": "stream",
     "text": [
      "Index(['credit_lines_outstanding', 'years_employed', 'fico_score', 'default',\n",
      "       'payment_to_income', 'debt_to_income'],\n",
      "      dtype='object')\n"
     ]
    }
   ],
   "source": [
    "features = df.columns\n",
    "print(features)"
   ]
  },
  {
   "cell_type": "code",
   "execution_count": 150,
   "id": "bf277742",
   "metadata": {},
   "outputs": [
    {
     "data": {
      "text/html": [
       "<div>\n",
       "<style scoped>\n",
       "    .dataframe tbody tr th:only-of-type {\n",
       "        vertical-align: middle;\n",
       "    }\n",
       "\n",
       "    .dataframe tbody tr th {\n",
       "        vertical-align: top;\n",
       "    }\n",
       "\n",
       "    .dataframe thead th {\n",
       "        text-align: right;\n",
       "    }\n",
       "</style>\n",
       "<table border=\"1\" class=\"dataframe\">\n",
       "  <thead>\n",
       "    <tr style=\"text-align: right;\">\n",
       "      <th></th>\n",
       "      <th>credit_lines_outstanding</th>\n",
       "      <th>years_employed</th>\n",
       "      <th>fico_score</th>\n",
       "      <th>default</th>\n",
       "      <th>payment_to_income</th>\n",
       "      <th>debt_to_income</th>\n",
       "    </tr>\n",
       "  </thead>\n",
       "  <tbody>\n",
       "    <tr>\n",
       "      <th>credit_lines_outstanding</th>\n",
       "      <td>1.000000</td>\n",
       "      <td>-0.087900</td>\n",
       "      <td>-0.258177</td>\n",
       "      <td>0.862815</td>\n",
       "      <td>0.115691</td>\n",
       "      <td>0.957247</td>\n",
       "    </tr>\n",
       "    <tr>\n",
       "      <th>years_employed</th>\n",
       "      <td>-0.087900</td>\n",
       "      <td>1.000000</td>\n",
       "      <td>0.255873</td>\n",
       "      <td>-0.284506</td>\n",
       "      <td>-0.299698</td>\n",
       "      <td>-0.194562</td>\n",
       "    </tr>\n",
       "    <tr>\n",
       "      <th>fico_score</th>\n",
       "      <td>-0.258177</td>\n",
       "      <td>0.255873</td>\n",
       "      <td>1.000000</td>\n",
       "      <td>-0.324515</td>\n",
       "      <td>-0.042127</td>\n",
       "      <td>-0.256868</td>\n",
       "    </tr>\n",
       "    <tr>\n",
       "      <th>default</th>\n",
       "      <td>0.862815</td>\n",
       "      <td>-0.284506</td>\n",
       "      <td>-0.324515</td>\n",
       "      <td>1.000000</td>\n",
       "      <td>0.162815</td>\n",
       "      <td>0.852406</td>\n",
       "    </tr>\n",
       "    <tr>\n",
       "      <th>payment_to_income</th>\n",
       "      <td>0.115691</td>\n",
       "      <td>-0.299698</td>\n",
       "      <td>-0.042127</td>\n",
       "      <td>0.162815</td>\n",
       "      <td>1.000000</td>\n",
       "      <td>0.132254</td>\n",
       "    </tr>\n",
       "    <tr>\n",
       "      <th>debt_to_income</th>\n",
       "      <td>0.957247</td>\n",
       "      <td>-0.194562</td>\n",
       "      <td>-0.256868</td>\n",
       "      <td>0.852406</td>\n",
       "      <td>0.132254</td>\n",
       "      <td>1.000000</td>\n",
       "    </tr>\n",
       "  </tbody>\n",
       "</table>\n",
       "</div>"
      ],
      "text/plain": [
       "                          credit_lines_outstanding  years_employed  \\\n",
       "credit_lines_outstanding                  1.000000       -0.087900   \n",
       "years_employed                           -0.087900        1.000000   \n",
       "fico_score                               -0.258177        0.255873   \n",
       "default                                   0.862815       -0.284506   \n",
       "payment_to_income                         0.115691       -0.299698   \n",
       "debt_to_income                            0.957247       -0.194562   \n",
       "\n",
       "                          fico_score   default  payment_to_income  \\\n",
       "credit_lines_outstanding   -0.258177  0.862815           0.115691   \n",
       "years_employed              0.255873 -0.284506          -0.299698   \n",
       "fico_score                  1.000000 -0.324515          -0.042127   \n",
       "default                    -0.324515  1.000000           0.162815   \n",
       "payment_to_income          -0.042127  0.162815           1.000000   \n",
       "debt_to_income             -0.256868  0.852406           0.132254   \n",
       "\n",
       "                          debt_to_income  \n",
       "credit_lines_outstanding        0.957247  \n",
       "years_employed                 -0.194562  \n",
       "fico_score                     -0.256868  \n",
       "default                         0.852406  \n",
       "payment_to_income               0.132254  \n",
       "debt_to_income                  1.000000  "
      ]
     },
     "execution_count": 150,
     "metadata": {},
     "output_type": "execute_result"
    }
   ],
   "source": [
    "corr_matrix = df.corr()\n",
    "corr_matrix"
   ]
  },
  {
   "cell_type": "code",
   "execution_count": 151,
   "id": "99ae1db4",
   "metadata": {},
   "outputs": [
    {
     "data": {
      "text/plain": [
       "pandas.core.frame.DataFrame"
      ]
     },
     "execution_count": 151,
     "metadata": {},
     "output_type": "execute_result"
    }
   ],
   "source": [
    "type(corr_matrix)"
   ]
  },
  {
   "cell_type": "code",
   "execution_count": 152,
   "id": "4a2d2359",
   "metadata": {},
   "outputs": [],
   "source": [
    "lb = 0.5\n",
    "ub = 0.9\n",
    "for index, row in corr_matrix.iterrows():\n",
    "    for column in corr_matrix.columns:\n",
    "        value = row[column]\n",
    "        if ub <= value <= ub:\n",
    "            print(f\"Value {value} at index {index} in column {column} is within the range.\")\n",
    "\n"
   ]
  },
  {
   "cell_type": "code",
   "execution_count": 153,
   "id": "80a97032",
   "metadata": {},
   "outputs": [
    {
     "data": {
      "image/png": "[encoded data removed]",
      "text/plain": [
       "<Figure size 640x480 with 2 Axes>"
      ]
     },
     "metadata": {},
     "output_type": "display_data"
    }
   ],
   "source": [
    "corr_matrix = df.corr()\n",
    "sns.heatmap(corr_matrix, annot=True, cmap='coolwarm', square=True)\n",
    "plt.title('Correlation Matrix')\n",
    "plt.show()"
   ]
  },
  {
   "cell_type": "code",
   "execution_count": 155,
   "id": "5207b1d0",
   "metadata": {},
   "outputs": [
    {
     "name": "stdout",
     "output_type": "stream",
     "text": [
      "[[ 3.18379073 -1.05539101 -0.01458222  6.55649523 -0.00679513  0.16683478]] [-0.25979916]\n",
      "0.0\n",
      "1.0\n"
     ]
    }
   ],
   "source": [
    "model = LogisticRegression(random_state=0, solver='liblinear', tol=1e-5, max_iter=10000).fit(df[features], df['default'])\n",
    "print(model.coef_, model.intercept_)"
   ]
  },
  {
   "cell_type": "code",
   "execution_count": 156,
   "id": "47b552e5",
   "metadata": {},
   "outputs": [
    {
     "name": "stdout",
     "output_type": "stream",
     "text": [
      "0.0\n",
      "1.0\n"
     ]
    }
   ],
   "source": [
    "y_pred = model.predict(df[features])\n",
    "fpr, tpr, thresholds = metrics.roc_curve(df['default'], y_pred)\n",
    "print((1.0*(abs(df['default'] - y_pred)).sum()) / len(df))\n",
    "print(metrics.auc(fpr, tpr))"
   ]
  },
  {
   "cell_type": "markdown",
   "id": "8cffe962",
   "metadata": {},
   "source": [
    "# TASK 4: Bucket FICO scores"
   ]
  },
  {
   "cell_type": "markdown",
   "id": "1147c6a9",
   "metadata": {},
   "source": [
    "#### Here is the background information on your task\n",
    "Now that you are familiar with the portfolio and personal loans and risk are using your model as a guide to loss provisions for the upcoming year, the team now asks you to look at their mortgage book. They suspect that FICO scores will provide a good indication of how likely a customer is to default on their mortgage. Charlie wants to build a machine learning model that will predict the probability of default, but while you are discussing the methodology, she mentions that the architecture she is using requires categorical data. As FICO ratings can take integer values in a large range, they will need to be mapped into buckets. She asks if you can find the best way of doing this to allow her to analyze the data.\n",
    "\n",
    "A FICO score is a standardized credit score created by the Fair Isaac Corporation (FICO) that quantifies the creditworthiness of a borrower to a value between 300 to 850, based on various factors. FICO scores are used in 90% of mortgage application decisions in the United States. The risk manager provides you with FICO scores for the borrowers in the bank’s portfolio and wants you to construct a technique for predicting the PD (probability of default) for the borrowers using these scores. \n",
    "\n",
    "\n",
    "#### Here is your task\n",
    "Charlie wants to make her model work for future data sets, so she needs a general approach to generating the buckets. Given a set number of buckets corresponding to the number of input labels for the model, she would like to find out the boundaries that best summarize the data. You need to create a rating map that maps the FICO score of the borrowers to a rating where a lower rating signifies a better credit score.\n",
    "\n",
    "The process of doing this is known as quantization. You could consider many ways of solving the problem by optimizing different properties of the resulting buckets, such as the mean squared error or log-likelihood (see below for definitions). For background on quantization, see here.\n",
    "\n",
    "- Mean squared error\n",
    "\n",
    "You can view this question as an approximation problem and try to map all the entries in a bucket to one value, minimizing the associated squared error. We are now looking to minimize the following: MSE formula\n",
    "\n",
    "- Log-likelihood\n",
    "\n",
    "A more sophisticated possibility is to maximize the following log-likelihood function:\n",
    "\n",
    "Where bi is the bucket boundaries, ni is the number of records in each bucket, ki is the number of defaults in each bucket, and pi = ki / ni is the probability of default in the bucket. This function considers how rough the discretization is and the density of defaults in each bucket. This problem could be addressed by splitting it into subproblems, which can be solved incrementally (i.e., through a dynamic programming approach). For example, you can break the problem into two subproblems, creating five buckets for FICO scores ranging from 0 to 600 and five buckets for FICO scores ranging from 600 to 850. Refer to this page for more context behind a likelihood function. This page may also be helpful for background on dynamic programming. "
   ]
  },
  {
   "cell_type": "code",
   "execution_count": 166,
   "id": "097d969a",
   "metadata": {},
   "outputs": [
    {
     "name": "stdout",
     "output_type": "stream",
     "text": [
      "Length of x: 10000\n",
      "Length of y: 10000\n",
      "Result: -4217.8245\n",
      "List: [850, 753, 752, 732, 696, 649, 611, 580, 552, 520, 300]\n"
     ]
    }
   ],
   "source": [
    "import pandas as pd\n",
    "import numpy as np\n",
    "\n",
    "df = pd.read_csv('Task 3 and 4_Loan_Data.csv')\n",
    "x = df['default'].to_list()\n",
    "y = df['fico_score'].to_list()\n",
    "n = len(x)\n",
    "print(\"Length of x:\", len(x))\n",
    "print(\"Length of y:\", len(y))\n",
    "\n",
    "default = [0 for i in range(851)]\n",
    "total = [0 for i in range(851)]\n",
    "\n",
    "for i in range(n):\n",
    "    y[i] = int(y[i])\n",
    "    default[y[i] - 300] += x[i]\n",
    "    total[y[i] - 300] += 1\n",
    "\n",
    "for i in range(1, 551):\n",
    "    default[i] += default[i - 1]\n",
    "    total[i] += total[i - 1]\n",
    "\n",
    "def log_likelihood(n, k):\n",
    "    p = k / n\n",
    "    if p == 0 or p == 1:\n",
    "        return 0\n",
    "    return k * np.log(p) + (n - k) * np.log(1 - p)\n",
    "\n",
    "r = 10\n",
    "dp = [[[-10 ** 18, 0] for i in range(551)] for j in range(r + 1)]\n",
    "\n",
    "for i in range(r + 1):\n",
    "    for j in range(551):\n",
    "        if i == 0:\n",
    "            dp[i][j][0] = 0\n",
    "        else:\n",
    "            for k in range(j):\n",
    "                if total[j] == total[k]:\n",
    "                    continue\n",
    "                if i == 1:\n",
    "                    dp[i][j][0] = log_likelihood(total[j], default[j])\n",
    "                else:\n",
    "                    if dp[i][j][0] < (dp[i - 1][k][0] + log_likelihood(total[j] - total[k], default[j] - default[k])):\n",
    "                        dp[i][j][0] = log_likelihood(total[j] - total[k], default[j] - default[k]) + dp[i - 1][k][0]\n",
    "                        dp[i][j][1] = k\n",
    "\n",
    "result = round(dp[r][550][0], 4)\n",
    "print(\"Result:\", result)\n",
    "\n",
    "k = 550\n",
    "l = []\n",
    "while r >= 0:\n",
    "    l.append(k + 300)\n",
    "    k = dp[r][k][1]\n",
    "    r -= 1\n",
    "\n",
    "print(\"List:\", l)\n"
   ]
  },
  {
   "cell_type": "code",
   "execution_count": null,
   "id": "4699dc01",
   "metadata": {},
   "outputs": [],
   "source": []
  }
 ],
 "metadata": {
  "kernelspec": {
   "display_name": "Python 3 (ipykernel)",
   "language": "python",
   "name": "python3"
  },
  "language_info": {
   "codemirror_mode": {
    "name": "ipython",
    "version": 3
   },
   "file_extension": ".py",
   "mimetype": "text/x-python",
   "name": "python",
   "nbconvert_exporter": "python",
   "pygments_lexer": "ipython3",
   "version": "3.10.9"
  }
 },
 "nbformat": 4,
 "nbformat_minor": 5
}
